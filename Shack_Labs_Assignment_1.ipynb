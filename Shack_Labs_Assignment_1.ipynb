{
  "cells": [
    {
      "cell_type": "markdown",
      "metadata": {
        "id": "view-in-github",
        "colab_type": "text"
      },
      "source": [
        "<a href=\"https://colab.research.google.com/github/kai-fib/Shack-Labs-Data-Science/blob/main/Shack_Labs_Assignment_1.ipynb\" target=\"_parent\"><img src=\"https://colab.research.google.com/assets/colab-badge.svg\" alt=\"Open In Colab\"/></a>"
      ]
    },
    {
      "cell_type": "markdown",
      "metadata": {
        "id": "51nlj5Axx_tb"
      },
      "source": [
        "# Part 1: Predict the price of a house"
      ]
    },
    {
      "cell_type": "markdown",
      "metadata": {
        "id": "X3Grbkfhx_te"
      },
      "source": [
        "\n",
        "\n",
        "# Problem Statement:"
      ]
    },
    {
      "cell_type": "markdown",
      "metadata": {
        "id": "dYjltgxrx_tf"
      },
      "source": [
        "The goal is to understand the relationship between house features and how these variables affect the house price."
      ]
    },
    {
      "cell_type": "markdown",
      "metadata": {
        "id": "LwGPwHaVx_tg"
      },
      "source": [
        "#### Dataset Link : https://www.dropbox.com/sh/aypq6h3254207bs/AACzMLvoXtK9sYAAma6FW0ladl=0&preview=Data+Science+Assignment.pdf"
      ]
    },
    {
      "cell_type": "markdown",
      "metadata": {
        "id": "60IBumFKx_tg"
      },
      "source": [
        "##### ."
      ]
    },
    {
      "cell_type": "code",
      "execution_count": null,
      "metadata": {
        "id": "wCxNXtjqx_th"
      },
      "outputs": [],
      "source": [
        "# Importing the libraries\n",
        "import pandas as pd\n",
        "import numpy as np\n",
        "import seaborn as sns\n",
        "import matplotlib.pyplot as plt"
      ]
    },
    {
      "cell_type": "code",
      "execution_count": null,
      "metadata": {
        "id": "lO3fd8Tlx_ti",
        "outputId": "e33521c7-d85c-47d2-c499-1be0afc725b9"
      },
      "outputs": [
        {
          "data": {
            "text/html": [
              "<div>\n",
              "<style scoped>\n",
              "    .dataframe tbody tr th:only-of-type {\n",
              "        vertical-align: middle;\n",
              "    }\n",
              "\n",
              "    .dataframe tbody tr th {\n",
              "        vertical-align: top;\n",
              "    }\n",
              "\n",
              "    .dataframe thead th {\n",
              "        text-align: right;\n",
              "    }\n",
              "</style>\n",
              "<table border=\"1\" class=\"dataframe\">\n",
              "  <thead>\n",
              "    <tr style=\"text-align: right;\">\n",
              "      <th></th>\n",
              "      <th>Transaction date</th>\n",
              "      <th>House Age</th>\n",
              "      <th>Distance from nearest Metro station (km)</th>\n",
              "      <th>Number of convenience stores</th>\n",
              "      <th>latitude</th>\n",
              "      <th>longitude</th>\n",
              "      <th>Number of bedrooms</th>\n",
              "      <th>House size (sqft)</th>\n",
              "      <th>House price of unit area</th>\n",
              "    </tr>\n",
              "  </thead>\n",
              "  <tbody>\n",
              "    <tr>\n",
              "      <th>0</th>\n",
              "      <td>2012.916667</td>\n",
              "      <td>32.0</td>\n",
              "      <td>84.87882</td>\n",
              "      <td>10</td>\n",
              "      <td>24.98298</td>\n",
              "      <td>121.54024</td>\n",
              "      <td>1</td>\n",
              "      <td>575</td>\n",
              "      <td>37.9</td>\n",
              "    </tr>\n",
              "    <tr>\n",
              "      <th>1</th>\n",
              "      <td>2012.916667</td>\n",
              "      <td>19.5</td>\n",
              "      <td>306.59470</td>\n",
              "      <td>9</td>\n",
              "      <td>24.98034</td>\n",
              "      <td>121.53951</td>\n",
              "      <td>2</td>\n",
              "      <td>1240</td>\n",
              "      <td>42.2</td>\n",
              "    </tr>\n",
              "    <tr>\n",
              "      <th>2</th>\n",
              "      <td>2013.583333</td>\n",
              "      <td>13.3</td>\n",
              "      <td>561.98450</td>\n",
              "      <td>5</td>\n",
              "      <td>24.98746</td>\n",
              "      <td>121.54391</td>\n",
              "      <td>3</td>\n",
              "      <td>1060</td>\n",
              "      <td>47.3</td>\n",
              "    </tr>\n",
              "    <tr>\n",
              "      <th>3</th>\n",
              "      <td>2013.500000</td>\n",
              "      <td>13.3</td>\n",
              "      <td>561.98450</td>\n",
              "      <td>5</td>\n",
              "      <td>24.98746</td>\n",
              "      <td>121.54391</td>\n",
              "      <td>2</td>\n",
              "      <td>875</td>\n",
              "      <td>54.8</td>\n",
              "    </tr>\n",
              "    <tr>\n",
              "      <th>4</th>\n",
              "      <td>2012.833333</td>\n",
              "      <td>5.0</td>\n",
              "      <td>390.56840</td>\n",
              "      <td>5</td>\n",
              "      <td>24.97937</td>\n",
              "      <td>121.54245</td>\n",
              "      <td>1</td>\n",
              "      <td>491</td>\n",
              "      <td>43.1</td>\n",
              "    </tr>\n",
              "  </tbody>\n",
              "</table>\n",
              "</div>"
            ],
            "text/plain": [
              "   Transaction date  House Age  Distance from nearest Metro station (km)  \\\n",
              "0       2012.916667       32.0                                  84.87882   \n",
              "1       2012.916667       19.5                                 306.59470   \n",
              "2       2013.583333       13.3                                 561.98450   \n",
              "3       2013.500000       13.3                                 561.98450   \n",
              "4       2012.833333        5.0                                 390.56840   \n",
              "\n",
              "   Number of convenience stores  latitude  longitude  Number of bedrooms  \\\n",
              "0                            10  24.98298  121.54024                   1   \n",
              "1                             9  24.98034  121.53951                   2   \n",
              "2                             5  24.98746  121.54391                   3   \n",
              "3                             5  24.98746  121.54391                   2   \n",
              "4                             5  24.97937  121.54245                   1   \n",
              "\n",
              "   House size (sqft)  House price of unit area  \n",
              "0                575                      37.9  \n",
              "1               1240                      42.2  \n",
              "2               1060                      47.3  \n",
              "3                875                      54.8  \n",
              "4                491                      43.1  "
            ]
          },
          "execution_count": 2,
          "metadata": {},
          "output_type": "execute_result"
        }
      ],
      "source": [
        "# Read The Dataset\n",
        "df=pd.read_excel(\"DS - Assignment Part 1 data set.xlsx\")\n",
        "df.head()"
      ]
    },
    {
      "cell_type": "code",
      "execution_count": null,
      "metadata": {
        "id": "NX1d_ebLx_tk",
        "outputId": "a5475594-dd5b-46cd-a80c-e57697751ca1"
      },
      "outputs": [
        {
          "name": "stdout",
          "output_type": "stream",
          "text": [
            "<class 'pandas.core.frame.DataFrame'>\n",
            "RangeIndex: 414 entries, 0 to 413\n",
            "Data columns (total 9 columns):\n",
            " #   Column                                    Non-Null Count  Dtype  \n",
            "---  ------                                    --------------  -----  \n",
            " 0   Transaction date                          414 non-null    float64\n",
            " 1   House Age                                 414 non-null    float64\n",
            " 2   Distance from nearest Metro station (km)  414 non-null    float64\n",
            " 3   Number of convenience stores              414 non-null    int64  \n",
            " 4   latitude                                  414 non-null    float64\n",
            " 5   longitude                                 414 non-null    float64\n",
            " 6   Number of bedrooms                        414 non-null    int64  \n",
            " 7   House size (sqft)                         414 non-null    int64  \n",
            " 8   House price of unit area                  414 non-null    float64\n",
            "dtypes: float64(6), int64(3)\n",
            "memory usage: 29.2 KB\n"
          ]
        }
      ],
      "source": [
        "df.info()"
      ]
    },
    {
      "cell_type": "code",
      "execution_count": null,
      "metadata": {
        "id": "iDl8MCYlx_tn",
        "outputId": "cbab94e8-bab9-4daa-f0f2-f65139e3abfe"
      },
      "outputs": [
        {
          "data": {
            "text/plain": [
              "(414, 9)"
            ]
          },
          "execution_count": 4,
          "metadata": {},
          "output_type": "execute_result"
        }
      ],
      "source": [
        "#shape of the dataset Rows:414 Columns:9\n",
        "df.shape"
      ]
    },
    {
      "cell_type": "code",
      "execution_count": null,
      "metadata": {
        "id": "Ms-FK_yZx_tp",
        "outputId": "7e02c911-1a10-463b-cddf-9ef535965c50"
      },
      "outputs": [
        {
          "data": {
            "text/plain": [
              "Transaction date                            0\n",
              "House Age                                   0\n",
              "Distance from nearest Metro station (km)    0\n",
              "Number of convenience stores                0\n",
              "latitude                                    0\n",
              "longitude                                   0\n",
              "Number of bedrooms                          0\n",
              "House size (sqft)                           0\n",
              "House price of unit area                    0\n",
              "dtype: int64"
            ]
          },
          "execution_count": 5,
          "metadata": {},
          "output_type": "execute_result"
        }
      ],
      "source": [
        "df.isnull().sum()"
      ]
    },
    {
      "cell_type": "markdown",
      "metadata": {
        "id": "08zN0E7Ox_tq"
      },
      "source": [
        "##### No Null values so we could proceed with further analysis"
      ]
    },
    {
      "cell_type": "code",
      "execution_count": null,
      "metadata": {
        "id": "jf74nqMcx_tq"
      },
      "outputs": [],
      "source": [
        "#Removing the uncessary data point \n",
        "df.drop([\"longitude\",\"latitude\",\"Transaction date\"], inplace=True, axis=1)"
      ]
    },
    {
      "cell_type": "code",
      "execution_count": null,
      "metadata": {
        "id": "K2PNByMZx_tr",
        "outputId": "9fe1ed70-21da-4c3f-bfad-58ed1473726b"
      },
      "outputs": [
        {
          "data": {
            "text/html": [
              "<div>\n",
              "<style scoped>\n",
              "    .dataframe tbody tr th:only-of-type {\n",
              "        vertical-align: middle;\n",
              "    }\n",
              "\n",
              "    .dataframe tbody tr th {\n",
              "        vertical-align: top;\n",
              "    }\n",
              "\n",
              "    .dataframe thead th {\n",
              "        text-align: right;\n",
              "    }\n",
              "</style>\n",
              "<table border=\"1\" class=\"dataframe\">\n",
              "  <thead>\n",
              "    <tr style=\"text-align: right;\">\n",
              "      <th></th>\n",
              "      <th>House Age</th>\n",
              "      <th>Distance from nearest Metro station (km)</th>\n",
              "      <th>Number of convenience stores</th>\n",
              "      <th>Number of bedrooms</th>\n",
              "      <th>House size (sqft)</th>\n",
              "      <th>House price of unit area</th>\n",
              "    </tr>\n",
              "  </thead>\n",
              "  <tbody>\n",
              "    <tr>\n",
              "      <th>count</th>\n",
              "      <td>414.000000</td>\n",
              "      <td>414.000000</td>\n",
              "      <td>414.000000</td>\n",
              "      <td>414.000000</td>\n",
              "      <td>414.000000</td>\n",
              "      <td>414.000000</td>\n",
              "    </tr>\n",
              "    <tr>\n",
              "      <th>mean</th>\n",
              "      <td>17.712560</td>\n",
              "      <td>1083.885689</td>\n",
              "      <td>4.094203</td>\n",
              "      <td>1.987923</td>\n",
              "      <td>931.475845</td>\n",
              "      <td>37.980193</td>\n",
              "    </tr>\n",
              "    <tr>\n",
              "      <th>std</th>\n",
              "      <td>11.392485</td>\n",
              "      <td>1262.109595</td>\n",
              "      <td>2.945562</td>\n",
              "      <td>0.818875</td>\n",
              "      <td>348.910269</td>\n",
              "      <td>13.606488</td>\n",
              "    </tr>\n",
              "    <tr>\n",
              "      <th>min</th>\n",
              "      <td>0.000000</td>\n",
              "      <td>23.382840</td>\n",
              "      <td>0.000000</td>\n",
              "      <td>1.000000</td>\n",
              "      <td>402.000000</td>\n",
              "      <td>7.600000</td>\n",
              "    </tr>\n",
              "    <tr>\n",
              "      <th>25%</th>\n",
              "      <td>9.025000</td>\n",
              "      <td>289.324800</td>\n",
              "      <td>1.000000</td>\n",
              "      <td>1.000000</td>\n",
              "      <td>548.000000</td>\n",
              "      <td>27.700000</td>\n",
              "    </tr>\n",
              "    <tr>\n",
              "      <th>50%</th>\n",
              "      <td>16.100000</td>\n",
              "      <td>492.231300</td>\n",
              "      <td>4.000000</td>\n",
              "      <td>2.000000</td>\n",
              "      <td>975.000000</td>\n",
              "      <td>38.450000</td>\n",
              "    </tr>\n",
              "    <tr>\n",
              "      <th>75%</th>\n",
              "      <td>28.150000</td>\n",
              "      <td>1454.279000</td>\n",
              "      <td>6.000000</td>\n",
              "      <td>3.000000</td>\n",
              "      <td>1234.750000</td>\n",
              "      <td>46.600000</td>\n",
              "    </tr>\n",
              "    <tr>\n",
              "      <th>max</th>\n",
              "      <td>43.800000</td>\n",
              "      <td>6488.021000</td>\n",
              "      <td>10.000000</td>\n",
              "      <td>3.000000</td>\n",
              "      <td>1500.000000</td>\n",
              "      <td>117.500000</td>\n",
              "    </tr>\n",
              "  </tbody>\n",
              "</table>\n",
              "</div>"
            ],
            "text/plain": [
              "        House Age  Distance from nearest Metro station (km)  \\\n",
              "count  414.000000                                414.000000   \n",
              "mean    17.712560                               1083.885689   \n",
              "std     11.392485                               1262.109595   \n",
              "min      0.000000                                 23.382840   \n",
              "25%      9.025000                                289.324800   \n",
              "50%     16.100000                                492.231300   \n",
              "75%     28.150000                               1454.279000   \n",
              "max     43.800000                               6488.021000   \n",
              "\n",
              "       Number of convenience stores  Number of bedrooms  House size (sqft)  \\\n",
              "count                    414.000000          414.000000         414.000000   \n",
              "mean                       4.094203            1.987923         931.475845   \n",
              "std                        2.945562            0.818875         348.910269   \n",
              "min                        0.000000            1.000000         402.000000   \n",
              "25%                        1.000000            1.000000         548.000000   \n",
              "50%                        4.000000            2.000000         975.000000   \n",
              "75%                        6.000000            3.000000        1234.750000   \n",
              "max                       10.000000            3.000000        1500.000000   \n",
              "\n",
              "       House price of unit area  \n",
              "count                414.000000  \n",
              "mean                  37.980193  \n",
              "std                   13.606488  \n",
              "min                    7.600000  \n",
              "25%                   27.700000  \n",
              "50%                   38.450000  \n",
              "75%                   46.600000  \n",
              "max                  117.500000  "
            ]
          },
          "execution_count": 7,
          "metadata": {},
          "output_type": "execute_result"
        }
      ],
      "source": [
        "#Description of the data\n",
        "df.describe()"
      ]
    },
    {
      "cell_type": "code",
      "execution_count": null,
      "metadata": {
        "id": "MZpqdE78x_tr",
        "outputId": "78d171da-534e-4555-c554-7601a1ecd714"
      },
      "outputs": [
        {
          "data": {
            "text/plain": [
              "House Age                                  -0.210567\n",
              "Distance from nearest Metro station (km)   -0.673613\n",
              "Number of convenience stores                0.571005\n",
              "Number of bedrooms                          0.050265\n",
              "House size (sqft)                           0.046489\n",
              "House price of unit area                    1.000000\n",
              "Name: House price of unit area, dtype: float64"
            ]
          },
          "execution_count": 8,
          "metadata": {},
          "output_type": "execute_result"
        }
      ],
      "source": [
        "#Correlation between the rest columns\n",
        "df.corr()[\"House price of unit area\"]"
      ]
    },
    {
      "cell_type": "code",
      "execution_count": null,
      "metadata": {
        "id": "apCWXci-x_tr",
        "outputId": "139e355c-b020-48cd-d9bd-f520435283cb"
      },
      "outputs": [
        {
          "data": {
            "text/html": [
              "<div>\n",
              "<style scoped>\n",
              "    .dataframe tbody tr th:only-of-type {\n",
              "        vertical-align: middle;\n",
              "    }\n",
              "\n",
              "    .dataframe tbody tr th {\n",
              "        vertical-align: top;\n",
              "    }\n",
              "\n",
              "    .dataframe thead th {\n",
              "        text-align: right;\n",
              "    }\n",
              "</style>\n",
              "<table border=\"1\" class=\"dataframe\">\n",
              "  <thead>\n",
              "    <tr style=\"text-align: right;\">\n",
              "      <th></th>\n",
              "      <th>House Age</th>\n",
              "      <th>Distance from nearest Metro station (km)</th>\n",
              "      <th>Number of convenience stores</th>\n",
              "      <th>Number of bedrooms</th>\n",
              "      <th>House size (sqft)</th>\n",
              "      <th>House price of unit area</th>\n",
              "    </tr>\n",
              "  </thead>\n",
              "  <tbody>\n",
              "    <tr>\n",
              "      <th>0</th>\n",
              "      <td>32.0</td>\n",
              "      <td>84.87882</td>\n",
              "      <td>10</td>\n",
              "      <td>1</td>\n",
              "      <td>575</td>\n",
              "      <td>37.9</td>\n",
              "    </tr>\n",
              "    <tr>\n",
              "      <th>1</th>\n",
              "      <td>19.5</td>\n",
              "      <td>306.59470</td>\n",
              "      <td>9</td>\n",
              "      <td>2</td>\n",
              "      <td>1240</td>\n",
              "      <td>42.2</td>\n",
              "    </tr>\n",
              "    <tr>\n",
              "      <th>2</th>\n",
              "      <td>13.3</td>\n",
              "      <td>561.98450</td>\n",
              "      <td>5</td>\n",
              "      <td>3</td>\n",
              "      <td>1060</td>\n",
              "      <td>47.3</td>\n",
              "    </tr>\n",
              "    <tr>\n",
              "      <th>3</th>\n",
              "      <td>13.3</td>\n",
              "      <td>561.98450</td>\n",
              "      <td>5</td>\n",
              "      <td>2</td>\n",
              "      <td>875</td>\n",
              "      <td>54.8</td>\n",
              "    </tr>\n",
              "    <tr>\n",
              "      <th>4</th>\n",
              "      <td>5.0</td>\n",
              "      <td>390.56840</td>\n",
              "      <td>5</td>\n",
              "      <td>1</td>\n",
              "      <td>491</td>\n",
              "      <td>43.1</td>\n",
              "    </tr>\n",
              "  </tbody>\n",
              "</table>\n",
              "</div>"
            ],
            "text/plain": [
              "   House Age  Distance from nearest Metro station (km)  \\\n",
              "0       32.0                                  84.87882   \n",
              "1       19.5                                 306.59470   \n",
              "2       13.3                                 561.98450   \n",
              "3       13.3                                 561.98450   \n",
              "4        5.0                                 390.56840   \n",
              "\n",
              "   Number of convenience stores  Number of bedrooms  House size (sqft)  \\\n",
              "0                            10                   1                575   \n",
              "1                             9                   2               1240   \n",
              "2                             5                   3               1060   \n",
              "3                             5                   2                875   \n",
              "4                             5                   1                491   \n",
              "\n",
              "   House price of unit area  \n",
              "0                      37.9  \n",
              "1                      42.2  \n",
              "2                      47.3  \n",
              "3                      54.8  \n",
              "4                      43.1  "
            ]
          },
          "execution_count": 9,
          "metadata": {},
          "output_type": "execute_result"
        }
      ],
      "source": [
        "df.head()"
      ]
    },
    {
      "cell_type": "markdown",
      "metadata": {
        "id": "nmFiTa6wx_ts"
      },
      "source": [
        "### Univariate and Multivariate Analysis of the given data "
      ]
    },
    {
      "cell_type": "code",
      "execution_count": null,
      "metadata": {
        "id": "vV6pSHBGx_ts",
        "outputId": "c755d926-36d1-4680-9350-3652765a6e24"
      },
      "outputs": [
        {
          "data": {
            "text/plain": [
              "<matplotlib.axes._subplots.AxesSubplot at 0x2c3b8eb4700>"
            ]
          },
          "execution_count": 10,
          "metadata": {},
          "output_type": "execute_result"
        },
        {
          "data": {
            "image/png": "[encoded data removed]",
            "text/plain": [
              "<Figure size 432x288 with 1 Axes>"
            ]
          },
          "metadata": {
            "needs_background": "light"
          },
          "output_type": "display_data"
        }
      ],
      "source": [
        "# Distribution plot of Distance from nearest Metro station (km)\n",
        "sns.distplot(df['Distance from nearest Metro station (km)'])"
      ]
    },
    {
      "cell_type": "code",
      "execution_count": null,
      "metadata": {
        "id": "PRQXE3nBx_ts",
        "outputId": "0b16e7b9-0a0b-401b-a04f-76b7a2818e4d"
      },
      "outputs": [
        {
          "data": {
            "text/plain": [
              "<matplotlib.axes._subplots.AxesSubplot at 0x2c3bafa6e20>"
            ]
          },
          "execution_count": 11,
          "metadata": {},
          "output_type": "execute_result"
        },
        {
          "data": {
            "image/png": "[encoded data removed]",
            "text/plain": [
              "<Figure size 432x288 with 1 Axes>"
            ]
          },
          "metadata": {
            "needs_background": "light"
          },
          "output_type": "display_data"
        }
      ],
      "source": [
        "# Scatterplot \n",
        "sns.scatterplot(df['Distance from nearest Metro station (km)'],df['House price of unit area'])"
      ]
    },
    {
      "cell_type": "markdown",
      "metadata": {
        "id": "OVmkVvpax_tv"
      },
      "source": [
        "#### assumption - The datapoint which is at the left top corner & right bottom corner look like outliers"
      ]
    },
    {
      "cell_type": "code",
      "execution_count": null,
      "metadata": {
        "id": "dRJNCJlGx_tv",
        "outputId": "4b5a77f5-5d11-4477-fede-1b54bc6cf307"
      },
      "outputs": [
        {
          "data": {
            "text/plain": [
              "<matplotlib.axes._subplots.AxesSubplot at 0x1ef9b337190>"
            ]
          },
          "execution_count": 10,
          "metadata": {},
          "output_type": "execute_result"
        },
        {
          "data": {
            "image/png": "[encoded data removed]",
            "text/plain": [
              "<Figure size 432x288 with 1 Axes>"
            ]
          },
          "metadata": {
            "needs_background": "light"
          },
          "output_type": "display_data"
        }
      ],
      "source": [
        "#Boxplot for Distance nearest Metro Station (km)\n",
        "sns.boxplot(df['Distance from nearest Metro station (km)'])"
      ]
    },
    {
      "cell_type": "code",
      "execution_count": null,
      "metadata": {
        "id": "kp84YK00x_tv"
      },
      "outputs": [],
      "source": [
        "# Detecting Outliers\n",
        "Q1 = np.percentile(df[\"Distance from nearest Metro station (km)\"], 25,\n",
        "                    interpolation = 'midpoint')\n",
        "Q3 = np.percentile(df[\"Distance from nearest Metro station (km)\"], 75,\n",
        "                    interpolation = 'midpoint')\n",
        "\n",
        "IQR= Q3 - Q1\n",
        "\n",
        "Lower_out = Q1 - (3*(IQR))\n",
        "Upper_out = Q3 + (3*(IQR))"
      ]
    },
    {
      "cell_type": "code",
      "execution_count": null,
      "metadata": {
        "id": "Oj07-0RCx_tw",
        "outputId": "bb1d4901-7866-4bed-fc39-dca5d78b005a"
      },
      "outputs": [
        {
          "data": {
            "text/plain": [
              "(-3200.9808, 4943.0656)"
            ]
          },
          "execution_count": 12,
          "metadata": {},
          "output_type": "execute_result"
        }
      ],
      "source": [
        "Lower_out,Upper_out"
      ]
    },
    {
      "cell_type": "markdown",
      "metadata": {
        "id": "1zCaQcqyx_tw"
      },
      "source": [
        "###### The values lower than 3000 and greater 5000 are considered 'Outliers'"
      ]
    },
    {
      "cell_type": "code",
      "execution_count": null,
      "metadata": {
        "id": "BeGaGnAGx_tw"
      },
      "outputs": [],
      "source": [
        "#now to remove the outliers\n",
        "outliers = np.where(df[\"Distance from nearest Metro station (km)\"]>5000)\n",
        "\n",
        "df.drop(outliers[0],inplace=True)"
      ]
    },
    {
      "cell_type": "code",
      "execution_count": null,
      "metadata": {
        "id": "WbJLOP6mx_tx",
        "outputId": "33202556-1757-4858-8cab-2ad8abb6b6e7"
      },
      "outputs": [
        {
          "data": {
            "text/plain": [
              "(409, 6)"
            ]
          },
          "execution_count": 14,
          "metadata": {},
          "output_type": "execute_result"
        }
      ],
      "source": [
        "#new shape of the dataset\n",
        "df.shape"
      ]
    },
    {
      "cell_type": "code",
      "execution_count": null,
      "metadata": {
        "id": "Fj_9_ae3x_tx",
        "outputId": "6fd2c1f4-97f5-4ffd-9cf2-b18fa5d25d57"
      },
      "outputs": [
        {
          "data": {
            "text/plain": [
              "<matplotlib.axes._subplots.AxesSubplot at 0x18950152df0>"
            ]
          },
          "execution_count": 29,
          "metadata": {},
          "output_type": "execute_result"
        },
        {
          "data": {
            "image/png": "[encoded data removed]",
            "text/plain": [
              "<Figure size 432x288 with 1 Axes>"
            ]
          },
          "metadata": {
            "needs_background": "light"
          },
          "output_type": "display_data"
        }
      ],
      "source": [
        "#distribution plot for Number of convienent Stores\n",
        "sns.distplot(df['Number of convenience stores'])"
      ]
    },
    {
      "cell_type": "code",
      "execution_count": null,
      "metadata": {
        "id": "g-s8iyNex_tx",
        "outputId": "458d5f7c-3a7f-4aa6-d3f2-8a243b9b31b1"
      },
      "outputs": [
        {
          "data": {
            "text/plain": [
              "<matplotlib.axes._subplots.AxesSubplot at 0x189501d7550>"
            ]
          },
          "execution_count": 30,
          "metadata": {},
          "output_type": "execute_result"
        },
        {
          "data": {
            "image/png": "[encoded data removed]",
            "text/plain": [
              "<Figure size 432x288 with 1 Axes>"
            ]
          },
          "metadata": {
            "needs_background": "light"
          },
          "output_type": "display_data"
        }
      ],
      "source": [
        "#Scatterplot\n",
        "sns.scatterplot(df['Number of convenience stores'],df['House price of unit area'])"
      ]
    },
    {
      "cell_type": "code",
      "execution_count": null,
      "metadata": {
        "id": "eqQbrbjkx_tx",
        "outputId": "dd8dd2e0-33d3-4a00-f27e-0f81b95cc299"
      },
      "outputs": [
        {
          "data": {
            "text/plain": [
              "<matplotlib.axes._subplots.AxesSubplot at 0x189502d15b0>"
            ]
          },
          "execution_count": 33,
          "metadata": {},
          "output_type": "execute_result"
        },
        {
          "data": {
            "image/png": "[encoded data removed]",
            "text/plain": [
              "<Figure size 432x288 with 1 Axes>"
            ]
          },
          "metadata": {
            "needs_background": "light"
          },
          "output_type": "display_data"
        }
      ],
      "source": [
        "#Boxplot\n",
        "sns.boxplot(df['Number of convenience stores'])"
      ]
    },
    {
      "cell_type": "code",
      "execution_count": null,
      "metadata": {
        "id": "VRfyU16Sx_tx",
        "outputId": "6304b182-b3c1-49bd-d694-c9bc627beb13"
      },
      "outputs": [
        {
          "data": {
            "text/plain": [
              "<matplotlib.axes._subplots.AxesSubplot at 0x1895020db80>"
            ]
          },
          "execution_count": 31,
          "metadata": {},
          "output_type": "execute_result"
        },
        {
          "data": {
            "image/png": "[encoded data removed]",
            "text/plain": [
              "<Figure size 432x288 with 1 Axes>"
            ]
          },
          "metadata": {
            "needs_background": "light"
          },
          "output_type": "display_data"
        }
      ],
      "source": [
        "#distribution plot for House_size\n",
        "sns.distplot(df['House size (sqft)'])"
      ]
    },
    {
      "cell_type": "code",
      "execution_count": null,
      "metadata": {
        "id": "hVpucfzgx_ty",
        "outputId": "777d56ba-baab-4fff-f371-0a3c2af22e3e"
      },
      "outputs": [
        {
          "data": {
            "text/plain": [
              "<matplotlib.axes._subplots.AxesSubplot at 0x1895021b880>"
            ]
          },
          "execution_count": 32,
          "metadata": {},
          "output_type": "execute_result"
        },
        {
          "data": {
            "image/png": "[encoded data removed]",
            "text/plain": [
              "<Figure size 432x288 with 1 Axes>"
            ]
          },
          "metadata": {
            "needs_background": "light"
          },
          "output_type": "display_data"
        }
      ],
      "source": [
        "#Scatterplot\n",
        "sns.scatterplot(df['House size (sqft)'],df['House price of unit area'])"
      ]
    },
    {
      "cell_type": "code",
      "execution_count": null,
      "metadata": {
        "id": "kIIUH-xFx_ty",
        "outputId": "656e2e74-1933-482f-c6b4-fbe87cf08148"
      },
      "outputs": [
        {
          "data": {
            "text/plain": [
              "<matplotlib.axes._subplots.AxesSubplot at 0x18950198fd0>"
            ]
          },
          "execution_count": 34,
          "metadata": {},
          "output_type": "execute_result"
        },
        {
          "data": {
            "image/png": "[encoded data removed]",
            "text/plain": [
              "<Figure size 432x288 with 1 Axes>"
            ]
          },
          "metadata": {
            "needs_background": "light"
          },
          "output_type": "display_data"
        }
      ],
      "source": [
        "#Boxplot\n",
        "sns.boxplot(df['House size (sqft)'])"
      ]
    },
    {
      "cell_type": "code",
      "execution_count": null,
      "metadata": {
        "id": "hZ4CSyoix_ty",
        "outputId": "afea9246-f59d-4d94-b4ff-4c91073f12c3"
      },
      "outputs": [
        {
          "data": {
            "text/plain": [
              "<matplotlib.axes._subplots.AxesSubplot at 0x189502f3040>"
            ]
          },
          "execution_count": 35,
          "metadata": {},
          "output_type": "execute_result"
        },
        {
          "data": {
            "image/png": "[encoded data removed]",
            "text/plain": [
              "<Figure size 432x288 with 1 Axes>"
            ]
          },
          "metadata": {
            "needs_background": "light"
          },
          "output_type": "display_data"
        }
      ],
      "source": [
        "#Distributionlplot for House price of unit area\n",
        "sns.distplot(df['House price of unit area'])"
      ]
    },
    {
      "cell_type": "code",
      "execution_count": null,
      "metadata": {
        "id": "WCknIT-Rx_ty",
        "outputId": "65cd3e39-1a12-4921-e9ba-a1db57771ab2"
      },
      "outputs": [
        {
          "data": {
            "text/plain": [
              "<matplotlib.axes._subplots.AxesSubplot at 0x1efb02f9fd0>"
            ]
          },
          "execution_count": 15,
          "metadata": {},
          "output_type": "execute_result"
        },
        {
          "data": {
            "image/png": "[encoded data removed]",
            "text/plain": [
              "<Figure size 432x288 with 1 Axes>"
            ]
          },
          "metadata": {
            "needs_background": "light"
          },
          "output_type": "display_data"
        }
      ],
      "source": [
        "#scatterplot\n",
        "sns.boxplot(df['House price of unit area'])"
      ]
    },
    {
      "cell_type": "markdown",
      "metadata": {
        "id": "6HqvX0emx_ty"
      },
      "source": [
        "###### Observation: Here in the above case we have detected some outliers "
      ]
    },
    {
      "cell_type": "code",
      "execution_count": null,
      "metadata": {
        "id": "rhds4a1Lx_tz"
      },
      "outputs": [],
      "source": [
        "#Detecting and segregation of outliers\n",
        "\n",
        "Q1 = np.percentile(df['House price of unit area'], 25,\n",
        "                    interpolation='midpoint')\n",
        "\n",
        "Q3 = np.percentile(df['House price of unit area'], 75,\n",
        "                     interpolation='midpoint')\n",
        "\n",
        "IQR = Q3 -Q1\n",
        "\n",
        "Lower_out_frq = Q1 - (3*(IQR))\n",
        "Upper_out_frq = Q3 + (3*(IQR))"
      ]
    },
    {
      "cell_type": "code",
      "execution_count": null,
      "metadata": {
        "id": "KqAwn0Igx_tz",
        "outputId": "f6c64288-0f84-4829-f5a4-adf37bf0a41e"
      },
      "outputs": [
        {
          "data": {
            "text/plain": [
              "(-26.20000000000001, 101.20000000000002)"
            ]
          },
          "execution_count": 17,
          "metadata": {},
          "output_type": "execute_result"
        }
      ],
      "source": [
        "Lower_out_frq,Upper_out_frq"
      ]
    },
    {
      "cell_type": "markdown",
      "metadata": {
        "id": "KuS3zEWvx_t0"
      },
      "source": [
        "##### Note: Anything Below -26 and Greater than 100 is considered an outlier"
      ]
    },
    {
      "cell_type": "code",
      "execution_count": null,
      "metadata": {
        "id": "SpfzZcpCx_t0"
      },
      "outputs": [],
      "source": [
        "Outlier = np.where(df['House price of unit area']>100)\n",
        "df.drop(Outlier[0],inplace=True)"
      ]
    },
    {
      "cell_type": "code",
      "execution_count": null,
      "metadata": {
        "id": "MGeTi7zhx_t1",
        "outputId": "a30a9535-2bb6-44a2-e867-88232ee02eb0"
      },
      "outputs": [
        {
          "data": {
            "text/plain": [
              "(408, 6)"
            ]
          },
          "execution_count": 19,
          "metadata": {},
          "output_type": "execute_result"
        }
      ],
      "source": [
        "#Checking the shape of the changed dataframe\n",
        "df.shape"
      ]
    },
    {
      "cell_type": "code",
      "execution_count": null,
      "metadata": {
        "id": "g0-F9Cgzx_t1",
        "outputId": "8a50a870-08c9-4d8d-a913-3334c5b7d5c7"
      },
      "outputs": [
        {
          "data": {
            "text/plain": [
              "<matplotlib.axes._subplots.AxesSubplot at 0x1895041bfd0>"
            ]
          },
          "execution_count": 44,
          "metadata": {},
          "output_type": "execute_result"
        },
        {
          "data": {
            "image/png": "[encoded data removed]",
            "text/plain": [
              "<Figure size 432x288 with 1 Axes>"
            ]
          },
          "metadata": {
            "needs_background": "light"
          },
          "output_type": "display_data"
        }
      ],
      "source": [
        "#distrinution plot for House Age\n",
        "sns.distplot(df['House Age'])"
      ]
    },
    {
      "cell_type": "code",
      "execution_count": null,
      "metadata": {
        "id": "3DD6JCXHx_t1",
        "outputId": "4ebd7c38-c165-4864-c80f-00c21da3898f"
      },
      "outputs": [
        {
          "data": {
            "text/plain": [
              "<matplotlib.axes._subplots.AxesSubplot at 0x189504f2be0>"
            ]
          },
          "execution_count": 46,
          "metadata": {},
          "output_type": "execute_result"
        },
        {
          "data": {
            "image/png": "[encoded data removed]",
            "text/plain": [
              "<Figure size 432x288 with 1 Axes>"
            ]
          },
          "metadata": {
            "needs_background": "light"
          },
          "output_type": "display_data"
        }
      ],
      "source": [
        "#boxplot\n",
        "sns.boxplot(df['House Age'])"
      ]
    },
    {
      "cell_type": "code",
      "execution_count": null,
      "metadata": {
        "id": "LIoUa_Ocx_t1",
        "outputId": "a0084c25-786d-47e5-c6b1-b45182e4bebb"
      },
      "outputs": [
        {
          "data": {
            "text/plain": [
              "<matplotlib.axes._subplots.AxesSubplot at 0x1efb0376c70>"
            ]
          },
          "execution_count": 20,
          "metadata": {},
          "output_type": "execute_result"
        },
        {
          "data": {
            "image/png": "[encoded data removed]",
            "text/plain": [
              "<Figure size 720x720 with 2 Axes>"
            ]
          },
          "metadata": {
            "needs_background": "light"
          },
          "output_type": "display_data"
        }
      ],
      "source": [
        "# Correlation Metrix\n",
        "plt.figure(figsize=(10,10))\n",
        "sns.heatmap(df.corr(), cbar=True, square=True, fmt='.2f', annot=True, annot_kws={'size':8}, cmap='Blues')\n"
      ]
    },
    {
      "cell_type": "markdown",
      "metadata": {
        "id": "nwbVPBW1x_t1"
      },
      "source": [
        "######  <b><i>Observation: From the following plot we could say  the dependent function i.e House price of unit area is positively correlated with Num of conviennce store,but negatively correlated with Age of the house and Distance from the metro"
      ]
    },
    {
      "cell_type": "code",
      "execution_count": null,
      "metadata": {
        "id": "vwWyCkGxx_t1",
        "outputId": "2a72a947-5aa5-4036-cafc-ebb9d254d6bd"
      },
      "outputs": [
        {
          "data": {
            "text/html": [
              "<div>\n",
              "<style scoped>\n",
              "    .dataframe tbody tr th:only-of-type {\n",
              "        vertical-align: middle;\n",
              "    }\n",
              "\n",
              "    .dataframe tbody tr th {\n",
              "        vertical-align: top;\n",
              "    }\n",
              "\n",
              "    .dataframe thead th {\n",
              "        text-align: right;\n",
              "    }\n",
              "</style>\n",
              "<table border=\"1\" class=\"dataframe\">\n",
              "  <thead>\n",
              "    <tr style=\"text-align: right;\">\n",
              "      <th></th>\n",
              "      <th>House Age</th>\n",
              "      <th>Distance from nearest Metro station (km)</th>\n",
              "      <th>Number of convenience stores</th>\n",
              "      <th>Number of bedrooms</th>\n",
              "      <th>House size (sqft)</th>\n",
              "      <th>House price of unit area</th>\n",
              "    </tr>\n",
              "  </thead>\n",
              "  <tbody>\n",
              "    <tr>\n",
              "      <th>0</th>\n",
              "      <td>32.0</td>\n",
              "      <td>84.87882</td>\n",
              "      <td>10</td>\n",
              "      <td>1</td>\n",
              "      <td>575</td>\n",
              "      <td>37.9</td>\n",
              "    </tr>\n",
              "    <tr>\n",
              "      <th>1</th>\n",
              "      <td>19.5</td>\n",
              "      <td>306.59470</td>\n",
              "      <td>9</td>\n",
              "      <td>2</td>\n",
              "      <td>1240</td>\n",
              "      <td>42.2</td>\n",
              "    </tr>\n",
              "    <tr>\n",
              "      <th>2</th>\n",
              "      <td>13.3</td>\n",
              "      <td>561.98450</td>\n",
              "      <td>5</td>\n",
              "      <td>3</td>\n",
              "      <td>1060</td>\n",
              "      <td>47.3</td>\n",
              "    </tr>\n",
              "    <tr>\n",
              "      <th>3</th>\n",
              "      <td>13.3</td>\n",
              "      <td>561.98450</td>\n",
              "      <td>5</td>\n",
              "      <td>2</td>\n",
              "      <td>875</td>\n",
              "      <td>54.8</td>\n",
              "    </tr>\n",
              "    <tr>\n",
              "      <th>4</th>\n",
              "      <td>5.0</td>\n",
              "      <td>390.56840</td>\n",
              "      <td>5</td>\n",
              "      <td>1</td>\n",
              "      <td>491</td>\n",
              "      <td>43.1</td>\n",
              "    </tr>\n",
              "  </tbody>\n",
              "</table>\n",
              "</div>"
            ],
            "text/plain": [
              "   House Age  Distance from nearest Metro station (km)  \\\n",
              "0       32.0                                  84.87882   \n",
              "1       19.5                                 306.59470   \n",
              "2       13.3                                 561.98450   \n",
              "3       13.3                                 561.98450   \n",
              "4        5.0                                 390.56840   \n",
              "\n",
              "   Number of convenience stores  Number of bedrooms  House size (sqft)  \\\n",
              "0                            10                   1                575   \n",
              "1                             9                   2               1240   \n",
              "2                             5                   3               1060   \n",
              "3                             5                   2                875   \n",
              "4                             5                   1                491   \n",
              "\n",
              "   House price of unit area  \n",
              "0                      37.9  \n",
              "1                      42.2  \n",
              "2                      47.3  \n",
              "3                      54.8  \n",
              "4                      43.1  "
            ]
          },
          "execution_count": 21,
          "metadata": {},
          "output_type": "execute_result"
        }
      ],
      "source": [
        "#Top 5 row\n",
        "df.head()"
      ]
    },
    {
      "cell_type": "markdown",
      "metadata": {
        "id": "5UulUvjZx_t2"
      },
      "source": [
        "### Model Creation and Evaluation"
      ]
    },
    {
      "cell_type": "code",
      "execution_count": null,
      "metadata": {
        "id": "ML_rqqqsx_t2"
      },
      "outputs": [],
      "source": [
        "# Splitting the dependent and independent values\n",
        "x = df.drop('House price of unit area',axis=1)\n",
        "y = df['House price of unit area']"
      ]
    },
    {
      "cell_type": "code",
      "execution_count": null,
      "metadata": {
        "id": "OnCNd5Dsx_t2",
        "outputId": "e89e1e6d-bbe4-4f4f-ccf5-314bd14e098f"
      },
      "outputs": [
        {
          "data": {
            "text/html": [
              "<div>\n",
              "<style scoped>\n",
              "    .dataframe tbody tr th:only-of-type {\n",
              "        vertical-align: middle;\n",
              "    }\n",
              "\n",
              "    .dataframe tbody tr th {\n",
              "        vertical-align: top;\n",
              "    }\n",
              "\n",
              "    .dataframe thead th {\n",
              "        text-align: right;\n",
              "    }\n",
              "</style>\n",
              "<table border=\"1\" class=\"dataframe\">\n",
              "  <thead>\n",
              "    <tr style=\"text-align: right;\">\n",
              "      <th></th>\n",
              "      <th>House Age</th>\n",
              "      <th>Distance from nearest Metro station (km)</th>\n",
              "      <th>Number of convenience stores</th>\n",
              "      <th>Number of bedrooms</th>\n",
              "      <th>House size (sqft)</th>\n",
              "    </tr>\n",
              "  </thead>\n",
              "  <tbody>\n",
              "    <tr>\n",
              "      <th>0</th>\n",
              "      <td>32.0</td>\n",
              "      <td>84.87882</td>\n",
              "      <td>10</td>\n",
              "      <td>1</td>\n",
              "      <td>575</td>\n",
              "    </tr>\n",
              "    <tr>\n",
              "      <th>1</th>\n",
              "      <td>19.5</td>\n",
              "      <td>306.59470</td>\n",
              "      <td>9</td>\n",
              "      <td>2</td>\n",
              "      <td>1240</td>\n",
              "    </tr>\n",
              "    <tr>\n",
              "      <th>2</th>\n",
              "      <td>13.3</td>\n",
              "      <td>561.98450</td>\n",
              "      <td>5</td>\n",
              "      <td>3</td>\n",
              "      <td>1060</td>\n",
              "    </tr>\n",
              "    <tr>\n",
              "      <th>3</th>\n",
              "      <td>13.3</td>\n",
              "      <td>561.98450</td>\n",
              "      <td>5</td>\n",
              "      <td>2</td>\n",
              "      <td>875</td>\n",
              "    </tr>\n",
              "    <tr>\n",
              "      <th>4</th>\n",
              "      <td>5.0</td>\n",
              "      <td>390.56840</td>\n",
              "      <td>5</td>\n",
              "      <td>1</td>\n",
              "      <td>491</td>\n",
              "    </tr>\n",
              "  </tbody>\n",
              "</table>\n",
              "</div>"
            ],
            "text/plain": [
              "   House Age  Distance from nearest Metro station (km)  \\\n",
              "0       32.0                                  84.87882   \n",
              "1       19.5                                 306.59470   \n",
              "2       13.3                                 561.98450   \n",
              "3       13.3                                 561.98450   \n",
              "4        5.0                                 390.56840   \n",
              "\n",
              "   Number of convenience stores  Number of bedrooms  House size (sqft)  \n",
              "0                            10                   1                575  \n",
              "1                             9                   2               1240  \n",
              "2                             5                   3               1060  \n",
              "3                             5                   2                875  \n",
              "4                             5                   1                491  "
            ]
          },
          "execution_count": 23,
          "metadata": {},
          "output_type": "execute_result"
        }
      ],
      "source": [
        "# Reading the independent values\n",
        "x.head()"
      ]
    },
    {
      "cell_type": "code",
      "execution_count": null,
      "metadata": {
        "id": "ppX9VtMDx_t2",
        "outputId": "cedf3a55-0240-4d3b-e738-630caab2dde2"
      },
      "outputs": [
        {
          "data": {
            "text/plain": [
              "0    37.9\n",
              "1    42.2\n",
              "2    47.3\n",
              "3    54.8\n",
              "4    43.1\n",
              "Name: House price of unit area, dtype: float64"
            ]
          },
          "execution_count": 24,
          "metadata": {},
          "output_type": "execute_result"
        }
      ],
      "source": [
        "# Reading the dependent value\n",
        "y.head()"
      ]
    },
    {
      "cell_type": "code",
      "execution_count": null,
      "metadata": {
        "id": "0mB2klNAx_t2",
        "outputId": "86c03645-7e15-4076-ffab-2f7b8bd4e2ee"
      },
      "outputs": [
        {
          "data": {
            "text/plain": [
              "((326, 5), (82, 5))"
            ]
          },
          "execution_count": 25,
          "metadata": {},
          "output_type": "execute_result"
        }
      ],
      "source": [
        "# Train Test split\n",
        "from sklearn.model_selection import train_test_split\n",
        "x_train,x_test,y_train,y_test=train_test_split(x,y,test_size=0.2,random_state=56)\n",
        "\n",
        "x_train.shape, x_test.shape"
      ]
    },
    {
      "cell_type": "markdown",
      "metadata": {
        "id": "1bwY3uP9x_t2"
      },
      "source": [
        "## Feature Scaling - Standardization of the data to ones and zeros"
      ]
    },
    {
      "cell_type": "code",
      "execution_count": null,
      "metadata": {
        "id": "o0d72GEOx_t2"
      },
      "outputs": [],
      "source": [
        "# importing StandarScaler\n",
        "\n",
        "from sklearn.preprocessing import StandardScaler"
      ]
    },
    {
      "cell_type": "code",
      "execution_count": null,
      "metadata": {
        "id": "7PsxlA_Vx_t3"
      },
      "outputs": [],
      "source": [
        "# Providing StandardScaler a object\n",
        "scaling = StandardScaler()"
      ]
    },
    {
      "cell_type": "code",
      "execution_count": null,
      "metadata": {
        "id": "l_fTcVsdx_t3",
        "outputId": "02a9b45a-bc38-4e27-b938-76ce4b68baa7"
      },
      "outputs": [
        {
          "data": {
            "text/plain": [
              "StandardScaler()"
            ]
          },
          "execution_count": 25,
          "metadata": {},
          "output_type": "execute_result"
        }
      ],
      "source": [
        "scaling.fit(x_train)"
      ]
    },
    {
      "cell_type": "code",
      "execution_count": null,
      "metadata": {
        "id": "eST8HN8fx_t3"
      },
      "outputs": [],
      "source": [
        "# Transformation of x_train and x_test\n",
        "x_train_scaled = scaling.transform(x_train)\n",
        "x_test_scaled = scaling.transform(x_test)"
      ]
    },
    {
      "cell_type": "code",
      "execution_count": null,
      "metadata": {
        "id": "AaAOUsulx_t3"
      },
      "outputs": [],
      "source": [
        "x_train_scaled = pd.DataFrame(x_train_scaled,columns=x_train.columns)\n",
        "x_test_scaled = pd.DataFrame(x_test_scaled,columns=x_test.columns)"
      ]
    },
    {
      "cell_type": "code",
      "execution_count": null,
      "metadata": {
        "id": "obIfn2Tyx_t3",
        "outputId": "1fb08a92-8e6f-49ac-c973-29f0618e1017"
      },
      "outputs": [
        {
          "data": {
            "text/html": [
              "<div>\n",
              "<style scoped>\n",
              "    .dataframe tbody tr th:only-of-type {\n",
              "        vertical-align: middle;\n",
              "    }\n",
              "\n",
              "    .dataframe tbody tr th {\n",
              "        vertical-align: top;\n",
              "    }\n",
              "\n",
              "    .dataframe thead th {\n",
              "        text-align: right;\n",
              "    }\n",
              "</style>\n",
              "<table border=\"1\" class=\"dataframe\">\n",
              "  <thead>\n",
              "    <tr style=\"text-align: right;\">\n",
              "      <th></th>\n",
              "      <th>House Age</th>\n",
              "      <th>Distance from nearest Metro station (km)</th>\n",
              "      <th>Number of convenience stores</th>\n",
              "      <th>latitude</th>\n",
              "      <th>longitude</th>\n",
              "      <th>House size (sqft)</th>\n",
              "    </tr>\n",
              "  </thead>\n",
              "  <tbody>\n",
              "    <tr>\n",
              "      <th>0</th>\n",
              "      <td>1.989428</td>\n",
              "      <td>-0.761401</td>\n",
              "      <td>0.326498</td>\n",
              "      <td>-0.313318</td>\n",
              "      <td>0.449411</td>\n",
              "      <td>0.166063</td>\n",
              "    </tr>\n",
              "    <tr>\n",
              "      <th>1</th>\n",
              "      <td>0.230351</td>\n",
              "      <td>1.327724</td>\n",
              "      <td>-0.027118</td>\n",
              "      <td>-0.753907</td>\n",
              "      <td>-1.670337</td>\n",
              "      <td>1.121229</td>\n",
              "    </tr>\n",
              "    <tr>\n",
              "      <th>2</th>\n",
              "      <td>-1.208107</td>\n",
              "      <td>1.035263</td>\n",
              "      <td>-0.380733</td>\n",
              "      <td>-0.592695</td>\n",
              "      <td>-1.501041</td>\n",
              "      <td>-1.039402</td>\n",
              "    </tr>\n",
              "    <tr>\n",
              "      <th>3</th>\n",
              "      <td>-0.566866</td>\n",
              "      <td>-0.559055</td>\n",
              "      <td>0.326498</td>\n",
              "      <td>0.789844</td>\n",
              "      <td>0.605191</td>\n",
              "      <td>-1.361627</td>\n",
              "    </tr>\n",
              "    <tr>\n",
              "      <th>4</th>\n",
              "      <td>1.261534</td>\n",
              "      <td>-0.528221</td>\n",
              "      <td>1.387345</td>\n",
              "      <td>0.494429</td>\n",
              "      <td>0.369031</td>\n",
              "      <td>1.339882</td>\n",
              "    </tr>\n",
              "  </tbody>\n",
              "</table>\n",
              "</div>"
            ],
            "text/plain": [
              "   House Age  Distance from nearest Metro station (km)  \\\n",
              "0   1.989428                                 -0.761401   \n",
              "1   0.230351                                  1.327724   \n",
              "2  -1.208107                                  1.035263   \n",
              "3  -0.566866                                 -0.559055   \n",
              "4   1.261534                                 -0.528221   \n",
              "\n",
              "   Number of convenience stores  latitude  longitude  House size (sqft)  \n",
              "0                      0.326498 -0.313318   0.449411           0.166063  \n",
              "1                     -0.027118 -0.753907  -1.670337           1.121229  \n",
              "2                     -0.380733 -0.592695  -1.501041          -1.039402  \n",
              "3                      0.326498  0.789844   0.605191          -1.361627  \n",
              "4                      1.387345  0.494429   0.369031           1.339882  "
            ]
          },
          "execution_count": 28,
          "metadata": {},
          "output_type": "execute_result"
        }
      ],
      "source": [
        "# Top 5 rows of scaled data\n",
        "x_train_scaled.head()"
      ]
    },
    {
      "cell_type": "code",
      "execution_count": null,
      "metadata": {
        "id": "lHxcIT_Mx_t3",
        "outputId": "e1780ab9-58a4-4a1a-c15c-a4aced32797c"
      },
      "outputs": [
        {
          "name": "stdout",
          "output_type": "stream",
          "text": [
            "R2 score 0.6705862877768314\n",
            "MAE 5.481467084713045\n"
          ]
        }
      ],
      "source": [
        "# linear Regression\n",
        "from sklearn.linear_model import LinearRegression\n",
        "from sklearn.metrics import accuracy_score,r2_score,mean_absolute_error,mean_squared_error\n",
        "lr = LinearRegression()\n",
        "lr.fit(x_train,y_train)\n",
        "lr_predict = lr.predict(x_test)\n",
        "lr_predict\n",
        "\n",
        "print(\"R2 score\",r2_score(lr_predict,y_test))\n",
        "print(\"MAE\",mean_absolute_error(lr_predict,y_test))\n"
      ]
    },
    {
      "cell_type": "code",
      "execution_count": null,
      "metadata": {
        "id": "A1eJH4H-x_t4",
        "outputId": "a7aaee0f-8fe5-4bcb-a0a1-2c9eee6b63dd"
      },
      "outputs": [
        {
          "data": {
            "text/html": [
              "<div>\n",
              "<style scoped>\n",
              "    .dataframe tbody tr th:only-of-type {\n",
              "        vertical-align: middle;\n",
              "    }\n",
              "\n",
              "    .dataframe tbody tr th {\n",
              "        vertical-align: top;\n",
              "    }\n",
              "\n",
              "    .dataframe thead th {\n",
              "        text-align: right;\n",
              "    }\n",
              "</style>\n",
              "<table border=\"1\" class=\"dataframe\">\n",
              "  <thead>\n",
              "    <tr style=\"text-align: right;\">\n",
              "      <th></th>\n",
              "      <th>0</th>\n",
              "    </tr>\n",
              "  </thead>\n",
              "  <tbody>\n",
              "    <tr>\n",
              "      <th>0</th>\n",
              "      <td>52.541733</td>\n",
              "    </tr>\n",
              "    <tr>\n",
              "      <th>1</th>\n",
              "      <td>49.083133</td>\n",
              "    </tr>\n",
              "    <tr>\n",
              "      <th>2</th>\n",
              "      <td>47.011456</td>\n",
              "    </tr>\n",
              "    <tr>\n",
              "      <th>3</th>\n",
              "      <td>33.766407</td>\n",
              "    </tr>\n",
              "    <tr>\n",
              "      <th>4</th>\n",
              "      <td>40.783024</td>\n",
              "    </tr>\n",
              "  </tbody>\n",
              "</table>\n",
              "</div>"
            ],
            "text/plain": [
              "           0\n",
              "0  52.541733\n",
              "1  49.083133\n",
              "2  47.011456\n",
              "3  33.766407\n",
              "4  40.783024"
            ]
          },
          "execution_count": 43,
          "metadata": {},
          "output_type": "execute_result"
        }
      ],
      "source": [
        "#reading the predicted values\n",
        "lr_predicted =pd.DataFrame(lr_predict)\n",
        "lr_predicted.head()"
      ]
    },
    {
      "cell_type": "code",
      "execution_count": null,
      "metadata": {
        "id": "6X999YP6x_t5",
        "outputId": "be3b59d6-470e-4757-9bc1-a7e1e2e17cf6"
      },
      "outputs": [
        {
          "name": "stdout",
          "output_type": "stream",
          "text": [
            "R2 score 0.6704675615780894\n",
            "MAE 5.480956313107402\n"
          ]
        }
      ],
      "source": [
        "# Ridge Regression\n",
        "from sklearn.linear_model import Ridge\n",
        "ridge=Ridge(alpha=3)\n",
        "ridge.fit(x_train,y_train)\n",
        "y_pred1 = ridge.predict(x_test)\n",
        "\n",
        "print(\"R2 score\",r2_score(y_pred1,y_test))\n",
        "print(\"MAE\",mean_absolute_error(y_pred1,y_test))"
      ]
    },
    {
      "cell_type": "code",
      "execution_count": null,
      "metadata": {
        "id": "RaXyavw1x_t6",
        "outputId": "97db476a-8948-431a-bde4-36fddad61ef5"
      },
      "outputs": [
        {
          "name": "stdout",
          "output_type": "stream",
          "text": [
            "R2 score 0.7074204501129129\n",
            "MAE 5.853658536585366\n"
          ]
        }
      ],
      "source": [
        "# Decision Tree\n",
        "from sklearn.tree import DecisionTreeRegressor\n",
        "dt=DecisionTreeRegressor(max_depth=40,random_state=1)\n",
        "dt.fit(x_train,y_train)\n",
        "y_pred1 = dt.predict(x_test)\n",
        "\n",
        "print(\"R2 score\",r2_score(y_pred1,y_test))\n",
        "print(\"MAE\",mean_absolute_error(y_pred1,y_test))"
      ]
    },
    {
      "cell_type": "markdown",
      "metadata": {
        "id": "ah5yjKeux_t6"
      },
      "source": [
        "###### Observation: we could say that The decision tree performed well ( R2 score increased) bcoz, linear regression perform well on only linear data, and in decision tree there is no linearity required"
      ]
    },
    {
      "cell_type": "code",
      "execution_count": null,
      "metadata": {
        "id": "5UP4M-95x_t6",
        "outputId": "0509a4e3-5c61-45cc-ccc8-72090934df57"
      },
      "outputs": [
        {
          "data": {
            "text/html": [
              "<div>\n",
              "<style scoped>\n",
              "    .dataframe tbody tr th:only-of-type {\n",
              "        vertical-align: middle;\n",
              "    }\n",
              "\n",
              "    .dataframe tbody tr th {\n",
              "        vertical-align: top;\n",
              "    }\n",
              "\n",
              "    .dataframe thead th {\n",
              "        text-align: right;\n",
              "    }\n",
              "</style>\n",
              "<table border=\"1\" class=\"dataframe\">\n",
              "  <thead>\n",
              "    <tr style=\"text-align: right;\">\n",
              "      <th></th>\n",
              "      <th>House Age</th>\n",
              "      <th>Distance from nearest Metro station (km)</th>\n",
              "      <th>Number of convenience stores</th>\n",
              "      <th>Number of bedrooms</th>\n",
              "      <th>House size (sqft)</th>\n",
              "      <th>House price of unit area</th>\n",
              "    </tr>\n",
              "  </thead>\n",
              "  <tbody>\n",
              "    <tr>\n",
              "      <th>House Age</th>\n",
              "      <td>1.000000</td>\n",
              "      <td>-0.008158</td>\n",
              "      <td>0.059586</td>\n",
              "      <td>-0.001745</td>\n",
              "      <td>-0.058641</td>\n",
              "      <td>-0.201398</td>\n",
              "    </tr>\n",
              "    <tr>\n",
              "      <th>Distance from nearest Metro station (km)</th>\n",
              "      <td>-0.008158</td>\n",
              "      <td>1.000000</td>\n",
              "      <td>-0.617519</td>\n",
              "      <td>-0.041689</td>\n",
              "      <td>-0.005005</td>\n",
              "      <td>-0.668741</td>\n",
              "    </tr>\n",
              "    <tr>\n",
              "      <th>Number of convenience stores</th>\n",
              "      <td>0.059586</td>\n",
              "      <td>-0.617519</td>\n",
              "      <td>1.000000</td>\n",
              "      <td>0.041202</td>\n",
              "      <td>0.036439</td>\n",
              "      <td>0.562988</td>\n",
              "    </tr>\n",
              "    <tr>\n",
              "      <th>Number of bedrooms</th>\n",
              "      <td>-0.001745</td>\n",
              "      <td>-0.041689</td>\n",
              "      <td>0.041202</td>\n",
              "      <td>1.000000</td>\n",
              "      <td>0.757203</td>\n",
              "      <td>0.047772</td>\n",
              "    </tr>\n",
              "    <tr>\n",
              "      <th>House size (sqft)</th>\n",
              "      <td>-0.058641</td>\n",
              "      <td>-0.005005</td>\n",
              "      <td>0.036439</td>\n",
              "      <td>0.757203</td>\n",
              "      <td>1.000000</td>\n",
              "      <td>0.053183</td>\n",
              "    </tr>\n",
              "    <tr>\n",
              "      <th>House price of unit area</th>\n",
              "      <td>-0.201398</td>\n",
              "      <td>-0.668741</td>\n",
              "      <td>0.562988</td>\n",
              "      <td>0.047772</td>\n",
              "      <td>0.053183</td>\n",
              "      <td>1.000000</td>\n",
              "    </tr>\n",
              "  </tbody>\n",
              "</table>\n",
              "</div>"
            ],
            "text/plain": [
              "                                          House Age  \\\n",
              "House Age                                  1.000000   \n",
              "Distance from nearest Metro station (km)  -0.008158   \n",
              "Number of convenience stores               0.059586   \n",
              "Number of bedrooms                        -0.001745   \n",
              "House size (sqft)                         -0.058641   \n",
              "House price of unit area                  -0.201398   \n",
              "\n",
              "                                          Distance from nearest Metro station (km)  \\\n",
              "House Age                                                                -0.008158   \n",
              "Distance from nearest Metro station (km)                                  1.000000   \n",
              "Number of convenience stores                                             -0.617519   \n",
              "Number of bedrooms                                                       -0.041689   \n",
              "House size (sqft)                                                        -0.005005   \n",
              "House price of unit area                                                 -0.668741   \n",
              "\n",
              "                                          Number of convenience stores  \\\n",
              "House Age                                                     0.059586   \n",
              "Distance from nearest Metro station (km)                     -0.617519   \n",
              "Number of convenience stores                                  1.000000   \n",
              "Number of bedrooms                                            0.041202   \n",
              "House size (sqft)                                             0.036439   \n",
              "House price of unit area                                      0.562988   \n",
              "\n",
              "                                          Number of bedrooms  \\\n",
              "House Age                                          -0.001745   \n",
              "Distance from nearest Metro station (km)           -0.041689   \n",
              "Number of convenience stores                        0.041202   \n",
              "Number of bedrooms                                  1.000000   \n",
              "House size (sqft)                                   0.757203   \n",
              "House price of unit area                            0.047772   \n",
              "\n",
              "                                          House size (sqft)  \\\n",
              "House Age                                         -0.058641   \n",
              "Distance from nearest Metro station (km)          -0.005005   \n",
              "Number of convenience stores                       0.036439   \n",
              "Number of bedrooms                                 0.757203   \n",
              "House size (sqft)                                  1.000000   \n",
              "House price of unit area                           0.053183   \n",
              "\n",
              "                                          House price of unit area  \n",
              "House Age                                                -0.201398  \n",
              "Distance from nearest Metro station (km)                 -0.668741  \n",
              "Number of convenience stores                              0.562988  \n",
              "Number of bedrooms                                        0.047772  \n",
              "House size (sqft)                                         0.053183  \n",
              "House price of unit area                                  1.000000  "
            ]
          },
          "execution_count": 30,
          "metadata": {},
          "output_type": "execute_result"
        }
      ],
      "source": [
        "df.corr()"
      ]
    },
    {
      "cell_type": "code",
      "execution_count": null,
      "metadata": {
        "id": "Vx_9GR2dx_t7"
      },
      "outputs": [],
      "source": []
    },
    {
      "cell_type": "markdown",
      "metadata": {
        "id": "94bmRfnvx_t7"
      },
      "source": [
        "##### Here we create a function for the user to find the house on basis on the given data and get the estimated price of the house using descision tree algorithm which we saw earlier because it performed well on comparision with ridge and linear regression"
      ]
    },
    {
      "cell_type": "code",
      "execution_count": null,
      "metadata": {
        "id": "MGDlUFfBx_t8"
      },
      "outputs": [],
      "source": [
        "def predict():\n",
        "        House_Age = float(input(\"House Age\"))\n",
        "    Distance_from_NearestMetro_Inkm = float(input(\"Distance from nearest Metro station (km)\"))\n",
        "    No_of_Convinence_Stores = float(input(\"Number of convenience stores\"))\n",
        "    No_of_Bedrooms = float(input(\"Number of Bedrooms\"))\n",
        "    House_size_sqft = float(input(\"House size (sqft)\"))\n",
        "\n",
        "    data = np.array([[House_Age, Distance_from_NearestMetro_Inkm, No_of_Convinence_Stores,No_of_Bedrooms,House_size_sqft]])\n",
        "    \n",
        "    output = dt.predict(data)\n",
        "    \n",
        "    print(\"Price for the unit area of the house is & accuracy : \", output )"
      ]
    },
    {
      "cell_type": "code",
      "execution_count": null,
      "metadata": {
        "id": "8bh0npLDx_t8",
        "outputId": "389a73bb-a98e-4586-9f9c-39b736785e79"
      },
      "outputs": [
        {
          "name": "stdout",
          "output_type": "stream",
          "text": [
            "House Age34\n",
            "Distance from nearest Metro station (km)250.4\n",
            "Number of convenience stores8\n",
            "Number of Bedrooms2\n",
            "House size (sqft)1100\n",
            "Price for the unit area of the house is & accuracy :  [40.2]\n"
          ]
        }
      ],
      "source": [
        "predict()"
      ]
    },
    {
      "cell_type": "code",
      "execution_count": null,
      "metadata": {
        "id": "NcNKjX4Sx_t9",
        "outputId": "2a31683b-a8f3-4602-9e10-7de843d241d1"
      },
      "outputs": [
        {
          "data": {
            "text/html": [
              "<div>\n",
              "<style scoped>\n",
              "    .dataframe tbody tr th:only-of-type {\n",
              "        vertical-align: middle;\n",
              "    }\n",
              "\n",
              "    .dataframe tbody tr th {\n",
              "        vertical-align: top;\n",
              "    }\n",
              "\n",
              "    .dataframe thead th {\n",
              "        text-align: right;\n",
              "    }\n",
              "</style>\n",
              "<table border=\"1\" class=\"dataframe\">\n",
              "  <thead>\n",
              "    <tr style=\"text-align: right;\">\n",
              "      <th></th>\n",
              "      <th>House Age</th>\n",
              "      <th>Distance from nearest Metro station (km)</th>\n",
              "      <th>Number of convenience stores</th>\n",
              "      <th>Number of bedrooms</th>\n",
              "      <th>House size (sqft)</th>\n",
              "      <th>House price of unit area</th>\n",
              "    </tr>\n",
              "  </thead>\n",
              "  <tbody>\n",
              "    <tr>\n",
              "      <th>0</th>\n",
              "      <td>32.0</td>\n",
              "      <td>84.87882</td>\n",
              "      <td>10</td>\n",
              "      <td>1</td>\n",
              "      <td>575</td>\n",
              "      <td>37.9</td>\n",
              "    </tr>\n",
              "    <tr>\n",
              "      <th>1</th>\n",
              "      <td>19.5</td>\n",
              "      <td>306.59470</td>\n",
              "      <td>9</td>\n",
              "      <td>2</td>\n",
              "      <td>1240</td>\n",
              "      <td>42.2</td>\n",
              "    </tr>\n",
              "    <tr>\n",
              "      <th>2</th>\n",
              "      <td>13.3</td>\n",
              "      <td>561.98450</td>\n",
              "      <td>5</td>\n",
              "      <td>3</td>\n",
              "      <td>1060</td>\n",
              "      <td>47.3</td>\n",
              "    </tr>\n",
              "    <tr>\n",
              "      <th>3</th>\n",
              "      <td>13.3</td>\n",
              "      <td>561.98450</td>\n",
              "      <td>5</td>\n",
              "      <td>2</td>\n",
              "      <td>875</td>\n",
              "      <td>54.8</td>\n",
              "    </tr>\n",
              "    <tr>\n",
              "      <th>4</th>\n",
              "      <td>5.0</td>\n",
              "      <td>390.56840</td>\n",
              "      <td>5</td>\n",
              "      <td>1</td>\n",
              "      <td>491</td>\n",
              "      <td>43.1</td>\n",
              "    </tr>\n",
              "    <tr>\n",
              "      <th>...</th>\n",
              "      <td>...</td>\n",
              "      <td>...</td>\n",
              "      <td>...</td>\n",
              "      <td>...</td>\n",
              "      <td>...</td>\n",
              "      <td>...</td>\n",
              "    </tr>\n",
              "    <tr>\n",
              "      <th>409</th>\n",
              "      <td>13.7</td>\n",
              "      <td>4082.01500</td>\n",
              "      <td>0</td>\n",
              "      <td>3</td>\n",
              "      <td>803</td>\n",
              "      <td>15.4</td>\n",
              "    </tr>\n",
              "    <tr>\n",
              "      <th>410</th>\n",
              "      <td>5.6</td>\n",
              "      <td>90.45606</td>\n",
              "      <td>9</td>\n",
              "      <td>2</td>\n",
              "      <td>1278</td>\n",
              "      <td>50.0</td>\n",
              "    </tr>\n",
              "    <tr>\n",
              "      <th>411</th>\n",
              "      <td>18.8</td>\n",
              "      <td>390.96960</td>\n",
              "      <td>7</td>\n",
              "      <td>1</td>\n",
              "      <td>503</td>\n",
              "      <td>40.6</td>\n",
              "    </tr>\n",
              "    <tr>\n",
              "      <th>412</th>\n",
              "      <td>8.1</td>\n",
              "      <td>104.81010</td>\n",
              "      <td>5</td>\n",
              "      <td>1</td>\n",
              "      <td>597</td>\n",
              "      <td>52.5</td>\n",
              "    </tr>\n",
              "    <tr>\n",
              "      <th>413</th>\n",
              "      <td>6.5</td>\n",
              "      <td>90.45606</td>\n",
              "      <td>9</td>\n",
              "      <td>2</td>\n",
              "      <td>1097</td>\n",
              "      <td>63.9</td>\n",
              "    </tr>\n",
              "  </tbody>\n",
              "</table>\n",
              "<p>408 rows × 6 columns</p>\n",
              "</div>"
            ],
            "text/plain": [
              "     House Age  Distance from nearest Metro station (km)  \\\n",
              "0         32.0                                  84.87882   \n",
              "1         19.5                                 306.59470   \n",
              "2         13.3                                 561.98450   \n",
              "3         13.3                                 561.98450   \n",
              "4          5.0                                 390.56840   \n",
              "..         ...                                       ...   \n",
              "409       13.7                                4082.01500   \n",
              "410        5.6                                  90.45606   \n",
              "411       18.8                                 390.96960   \n",
              "412        8.1                                 104.81010   \n",
              "413        6.5                                  90.45606   \n",
              "\n",
              "     Number of convenience stores  Number of bedrooms  House size (sqft)  \\\n",
              "0                              10                   1                575   \n",
              "1                               9                   2               1240   \n",
              "2                               5                   3               1060   \n",
              "3                               5                   2                875   \n",
              "4                               5                   1                491   \n",
              "..                            ...                 ...                ...   \n",
              "409                             0                   3                803   \n",
              "410                             9                   2               1278   \n",
              "411                             7                   1                503   \n",
              "412                             5                   1                597   \n",
              "413                             9                   2               1097   \n",
              "\n",
              "     House price of unit area  \n",
              "0                        37.9  \n",
              "1                        42.2  \n",
              "2                        47.3  \n",
              "3                        54.8  \n",
              "4                        43.1  \n",
              "..                        ...  \n",
              "409                      15.4  \n",
              "410                      50.0  \n",
              "411                      40.6  \n",
              "412                      52.5  \n",
              "413                      63.9  \n",
              "\n",
              "[408 rows x 6 columns]"
            ]
          },
          "execution_count": 33,
          "metadata": {},
          "output_type": "execute_result"
        }
      ],
      "source": [
        "#for the reference of client\n",
        "df"
      ]
    },
    {
      "cell_type": "markdown",
      "metadata": {
        "id": "jHQNktG5x_t-"
      },
      "source": [
        "### From this  we can find the price of the unit area of the house for the details for an user enters\n",
        "\n"
      ]
    },
    {
      "cell_type": "code",
      "execution_count": null,
      "metadata": {
        "id": "eKD-eJ1Sx_t-"
      },
      "outputs": [],
      "source": []
    }
  ],
  "metadata": {
    "kernelspec": {
      "display_name": "Python 3",
      "language": "python",
      "name": "python3"
    },
    "language_info": {
      "codemirror_mode": {
        "name": "ipython",
        "version": 3
      },
      "file_extension": ".py",
      "mimetype": "text/x-python",
      "name": "python",
      "nbconvert_exporter": "python",
      "pygments_lexer": "ipython3",
      "version": "3.8.3"
    },
    "colab": {
      "provenance": [],
      "include_colab_link": true
    }
  },
  "nbformat": 4,
  "nbformat_minor": 0
}